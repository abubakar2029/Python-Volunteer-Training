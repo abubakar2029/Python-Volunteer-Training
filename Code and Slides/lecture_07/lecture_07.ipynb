{
  "cells": [
    {
      "cell_type": "markdown",
      "id": "2a240562",
      "metadata": {
        "id": "2a240562"
      },
      "source": [
        "# Working with Python Lists: Operations & Examples"
      ]
    },
    {
      "cell_type": "markdown",
      "id": "d9acae0a",
      "metadata": {
        "id": "d9acae0a"
      },
      "source": [
        "## Indexing & Slicing"
      ]
    },
    {
      "cell_type": "code",
      "execution_count": 14,
      "id": "ccaaa44e",
      "metadata": {
        "colab": {
          "base_uri": "https://localhost:8080/"
        },
        "id": "ccaaa44e",
        "outputId": "f6215cf1-a70c-48f0-f221-65659abaa1db"
      },
      "outputs": [
        {
          "name": "stdout",
          "output_type": "stream",
          "text": [
            "apple\n",
            "date\n",
            "['banana', 'banana']\n"
          ]
        }
      ],
      "source": [
        "fruits = [\"apple\", \"banana\",\"banana\", \"cherry\", \"date\"]\n",
        "#         0         2         3\n",
        "print(fruits[0])      # Output: apple\n",
        "print(fruits[-1])     # Output: date\n",
        "print(fruits[1:3])    # Output: ['banana', 'cherry']"
      ]
    },
    {
      "cell_type": "markdown",
      "id": "2ed63cb1",
      "metadata": {
        "id": "2ed63cb1"
      },
      "source": [
        "## Adding Elements"
      ]
    },
    {
      "cell_type": "code",
      "execution_count": 25,
      "id": "a5333c6f",
      "metadata": {
        "colab": {
          "base_uri": "https://localhost:8080/"
        },
        "id": "a5333c6f",
        "outputId": "1d138c4f-d568-4e74-983a-a9f807d05891"
      },
      "outputs": [
        {
          "name": "stdout",
          "output_type": "stream",
          "text": [
            "['elderberry']\n",
            "['elderberry', 'blueberry']\n",
            "['elderberry', 'blueberry', 'fig', 'grape', 99]\n"
          ]
        }
      ],
      "source": [
        "fruits.append(\"elderberry\")  # Add to end\n",
        "print(fruits)\n",
        "\n",
        "fruits.insert(1, \"blueberry\")  # Insert at index 1\n",
        "print(fruits)\n",
        "\n",
        "fruits.extend([\"fig\", \"grape\",99])  # Add multiple items\n",
        "print(fruits)"
      ]
    },
    {
      "cell_type": "code",
      "execution_count": null,
      "id": "raNBIBkxvHj8",
      "metadata": {
        "id": "raNBIBkxvHj8"
      },
      "outputs": [],
      "source": [
        "# Strings are immutable\n",
        "str = \"asd\""
      ]
    },
    {
      "cell_type": "markdown",
      "id": "3cb381e4",
      "metadata": {
        "id": "3cb381e4"
      },
      "source": [
        "## Removing Elements"
      ]
    },
    {
      "cell_type": "code",
      "execution_count": 28,
      "id": "091c9b3c",
      "metadata": {
        "colab": {
          "base_uri": "https://localhost:8080/"
        },
        "id": "091c9b3c",
        "outputId": "4980982f-4547-419b-af52-449220162861"
      },
      "outputs": [
        {
          "name": "stdout",
          "output_type": "stream",
          "text": [
            "['elderberry', 'blueberry', 'fig']\n"
          ]
        }
      ],
      "source": [
        "# fruits.remove(\"banana\")  # Remove by value\n",
        "# print(fruits)\n",
        "# print(fruits)\n",
        "popped = fruits.pop()    # Remove & return last item\n",
        "# print(\"Popped:\", popped)\n",
        "# fruits.pop()    # Remove & return last item\n",
        "\n",
        "print(fruits)"
      ]
    },
    {
      "cell_type": "code",
      "execution_count": 41,
      "id": "6UIWusBxvuzq",
      "metadata": {
        "id": "6UIWusBxvuzq"
      },
      "outputs": [],
      "source": [
        "nums = [1,3,2,4,11,9,5]"
      ]
    },
    {
      "cell_type": "code",
      "execution_count": 50,
      "id": "2VgxtfrjvcYc",
      "metadata": {
        "colab": {
          "base_uri": "https://localhost:8080/"
        },
        "id": "2VgxtfrjvcYc",
        "outputId": "772e39ae-68b9-4c79-cd4b-94b4772843de"
      },
      "outputs": [
        {
          "name": "stdout",
          "output_type": "stream",
          "text": [
            "[1, 2, 3, 4, 5, True, 'it is a str']\n",
            "[1, 2, 3, 4, 5, True, 'it is a str']\n"
          ]
        }
      ],
      "source": [
        "# lists are mutable - original values change hote han\n",
        "nums = [1,2,3,4,5,True,\"it is a str\"]\n",
        "\n",
        "print(nums)\n",
        "# nums.pop()\n",
        "# nums.pop()\n",
        "print(nums)"
      ]
    },
    {
      "cell_type": "markdown",
      "id": "f4cadacc",
      "metadata": {
        "id": "f4cadacc"
      },
      "source": [
        "## Sorting & Other Operations"
      ]
    },
    {
      "cell_type": "code",
      "execution_count": 44,
      "id": "c0c6ac98",
      "metadata": {
        "colab": {
          "base_uri": "https://localhost:8080/"
        },
        "id": "c0c6ac98",
        "outputId": "f9c1f084-6a1d-4f76-ed21-dcbc9e71fde3"
      },
      "outputs": [
        {
          "name": "stdout",
          "output_type": "stream",
          "text": [
            "Sorted in place: ['blueberry', 'elderberry', 'fig']\n",
            "Sorted copy: ['blueberry', 'elderberry', 'fig']\n",
            "Length: 3\n",
            "False\n"
          ]
        }
      ],
      "source": [
        "fruits.sort() # Sort in place\n",
        "print(\"Sorted in place:\", fruits)\n",
        "\n",
        "new_list = sorted(fruits) # Return sorted copy\n",
        "print(\"Sorted copy:\", new_list)\n",
        "\n",
        "print(\"Length:\", len(fruits)) # Count items\n",
        "print(\"apple\" in fruits) # Check membership"
      ]
    },
    {
      "cell_type": "code",
      "execution_count": 49,
      "id": "RjrSOx_HwVuy",
      "metadata": {
        "colab": {
          "base_uri": "https://localhost:8080/"
        },
        "id": "RjrSOx_HwVuy",
        "outputId": "dfe95ac8-cb14-4411-97fb-c8a86482272e"
      },
      "outputs": [
        {
          "name": "stdout",
          "output_type": "stream",
          "text": [
            "[1, 2, 3, 4, 5, 9, 11, 88, 23, 43]\n",
            "1\n",
            "False\n"
          ]
        }
      ],
      "source": [
        "print(nums)\n",
        "# nums.sort()\n",
        "# kya ya nums aga bhi sorted mila gi ya only print function ma hi ha\n",
        "# print(nums)\n",
        "\n",
        "nums_2 = sorted(nums)\n",
        "print(nums_2[0])\n",
        "\n",
        "len(nums)\n",
        "\n",
        "print(12 in nums)"
      ]
    },
    {
      "cell_type": "code",
      "execution_count": 48,
      "id": "5COm-InXx30a",
      "metadata": {
        "colab": {
          "base_uri": "https://localhost:8080/"
        },
        "id": "5COm-InXx30a",
        "outputId": "243163e6-d8a8-45fe-e1a1-fec05e583b55"
      },
      "outputs": [
        {
          "name": "stdout",
          "output_type": "stream",
          "text": [
            "[1, 2, 3, 4, 5, 9, 11, 88, 23, 43]\n"
          ]
        }
      ],
      "source": [
        "nums.append(88)\n",
        "nums.append(23)\n",
        "nums.append(43)\n",
        "\n",
        "print(nums)"
      ]
    },
    {
      "cell_type": "code",
      "execution_count": 6,
      "id": "i9JR7OM8rLCy",
      "metadata": {
        "colab": {
          "base_uri": "https://localhost:8080/"
        },
        "id": "i9JR7OM8rLCy",
        "outputId": "5d164953-e0bb-47eb-a5b1-f71a326014e0"
      },
      "outputs": [
        {
          "name": "stdout",
          "output_type": "stream",
          "text": [
            "['ahmed', 'dawood', 'qasim', 88, 99.9]\n",
            "dawood\n",
            "['ahmed', 'dawood', 'qasim']\n",
            "88\n"
          ]
        }
      ],
      "source": [
        "# Lists Introduction\n",
        "\n",
        "# initialize a list\n",
        "# lift_of_names = []\n",
        "\n",
        "# values separated by commas\n",
        "list_of_names = [\"ahmed\",\"dawood\",\"qasim\", 88 , 99.9]\n",
        "#                 0       1      2\n",
        "id_of_names = [12,111,44]\n",
        "# int, str, boolean\n",
        "\n",
        "# print a list\n",
        "print(list_of_names)\n",
        "# specific index\n",
        "print(list_of_names[1])\n",
        "# range of index\n",
        "print(list_of_names[0:3])\n",
        "#           inlcusive:exclusive\n",
        "\n",
        "# negative indexing\n",
        "print(list_of_names[-2])"
      ]
    },
    {
      "cell_type": "code",
      "execution_count": 9,
      "id": "5Z98Vep_tJLC",
      "metadata": {
        "colab": {
          "base_uri": "https://localhost:8080/"
        },
        "id": "5Z98Vep_tJLC",
        "outputId": "d11a3008-2712-4eac-d063-6cead60b6302"
      },
      "outputs": [
        {
          "name": "stdout",
          "output_type": "stream",
          "text": [
            "name is found :  ahmed\n"
          ]
        }
      ],
      "source": [
        "# Matching an element in list\n",
        "for name in list_of_names:\n",
        "  if name == \"ahmed\":\n",
        "    print(\"name is found : \",name)"
      ]
    },
    {
      "cell_type": "code",
      "execution_count": 59,
      "id": "7PpWu4OLy9we",
      "metadata": {
        "colab": {
          "base_uri": "https://localhost:8080/"
        },
        "id": "7PpWu4OLy9we",
        "outputId": "99554864-9f98-45c4-de6a-e8569b3d0277"
      },
      "outputs": [
        {
          "name": "stdout",
          "output_type": "stream",
          "text": [
            "ali\n",
            "['sara', 'john']\n",
            "['john', 'ali']\n"
          ]
        }
      ],
      "source": [
        "# lists example\n",
        "seats = [\"sara\",\"john\",\"ali\"]\n",
        "print(seats[2])\n",
        "\n",
        "# range - slicing\n",
        "print(seats[0:2])\n",
        "seats.remove(\"sara\")\n",
        "print(seats)\n",
        "# include:exclude"
      ]
    }
  ],
  "metadata": {
    "colab": {
      "provenance": []
    },
    "kernelspec": {
      "display_name": "Python 3",
      "name": "python3"
    },
    "language_info": {
      "name": "python"
    }
  },
  "nbformat": 4,
  "nbformat_minor": 5
}
