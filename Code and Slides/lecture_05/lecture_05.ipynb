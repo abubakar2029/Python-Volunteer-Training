{
 "cells": [
  {
   "cell_type": "code",
   "execution_count": 2,
   "id": "df21e8a7-c422-47e4-b226-3fdc317a7bd4",
   "metadata": {},
   "outputs": [],
   "source": [
    "## Week 1 Topics\n",
    "# \"\"\"\n",
    "# 1. Basic Syntax & Variables\n",
    "# 2. Input/Output Operators\n",
    "# 3. Data Types\n",
    "# 4. Strings and their Methods\n",
    "# 5. Conditonal statements\n",
    "\n",
    "# \"\"\""
   ]
  },
  {
   "cell_type": "code",
   "execution_count": 3,
   "id": "9b586bd2-1799-4c54-beab-3832a307b4e2",
   "metadata": {},
   "outputs": [
    {
     "name": "stdout",
     "output_type": "stream",
     "text": [
      "Welcome to Python Course\n"
     ]
    },
    {
     "data": {
      "text/plain": [
       "int"
      ]
     },
     "execution_count": 3,
     "metadata": {},
     "output_type": "execute_result"
    }
   ],
   "source": [
    "print(\"Welcome to Python Course\")\n",
    "name = \"Hafiz Haris\"\n",
    "age = 22\n",
    "\n",
    "type(age)"
   ]
  },
  {
   "cell_type": "code",
   "execution_count": 4,
   "id": "2eb335ca-e24d-4269-88de-faae817e68d0",
   "metadata": {},
   "outputs": [
    {
     "name": "stdout",
     "output_type": "stream",
     "text": [
      "7\n",
      "25\n"
     ]
    }
   ],
   "source": [
    "# Basic Math Operations\n",
    "a = 5\n",
    "b = 2\n",
    "\n",
    "c = a + b\n",
    "d = a **b\n",
    "\n",
    "print(c)\n",
    "print(d)"
   ]
  },
  {
   "cell_type": "code",
   "execution_count": 5,
   "id": "c1d7227e-d762-4b29-82db-84459254cb1b",
   "metadata": {},
   "outputs": [
    {
     "name": "stdin",
     "output_type": "stream",
     "text": [
      "Enter your name Hafiz Haris Mehmood\n",
      "ENter your age 22\n",
      "Enter your height 5.8\n"
     ]
    },
    {
     "name": "stdout",
     "output_type": "stream",
     "text": [
      "Hafiz Haris Mehmood 22 5.8\n"
     ]
    }
   ],
   "source": [
    "#Input Output Operators\n",
    "x = input(\"Enter your name\")\n",
    "age = int(input(\"ENter your age\"))\n",
    "height = float(input(\"Enter your height\"))\n",
    "\n",
    "print(x , age, height)"
   ]
  },
  {
   "cell_type": "code",
   "execution_count": 6,
   "id": "bcec0a39-b503-42ba-9d89-2caf23dd4348",
   "metadata": {},
   "outputs": [],
   "source": [
    "# Python Data Types\n",
    "# int\n",
    "# Float\n",
    "# Boolean\n",
    "# String"
   ]
  },
  {
   "cell_type": "code",
   "execution_count": 29,
   "id": "7d050458-c7a3-467a-ba4d-58f5e6c5ff5c",
   "metadata": {},
   "outputs": [
    {
     "data": {
      "text/plain": [
       "str"
      ]
     },
     "execution_count": 29,
     "metadata": {},
     "output_type": "execute_result"
    }
   ],
   "source": [
    "# Strings\n",
    "name = \"Hafiz Haris Mehmood\"\n",
    "type(name)"
   ]
  },
  {
   "cell_type": "code",
   "execution_count": 8,
   "id": "01ae351f-c0b9-4dc8-a627-f0f285d8119a",
   "metadata": {},
   "outputs": [
    {
     "data": {
      "text/plain": [
       "19"
      ]
     },
     "execution_count": 8,
     "metadata": {},
     "output_type": "execute_result"
    }
   ],
   "source": [
    "len(name)"
   ]
  },
  {
   "cell_type": "code",
   "execution_count": 11,
   "id": "34e80712-7e97-45e3-a9e1-c6851c0e6f7e",
   "metadata": {},
   "outputs": [
    {
     "data": {
      "text/plain": [
       "'i'"
      ]
     },
     "execution_count": 11,
     "metadata": {},
     "output_type": "execute_result"
    }
   ],
   "source": [
    "# Indexing\n",
    "name[9]"
   ]
  },
  {
   "cell_type": "code",
   "execution_count": 13,
   "id": "7948a38c-a891-4c15-af37-ec30f6408ac0",
   "metadata": {},
   "outputs": [
    {
     "data": {
      "text/plain": [
       "'Hafiz Haris'"
      ]
     },
     "execution_count": 13,
     "metadata": {},
     "output_type": "execute_result"
    }
   ],
   "source": [
    "# Slicing\n",
    "name[0:11]"
   ]
  },
  {
   "cell_type": "code",
   "execution_count": 14,
   "id": "4801bea4-caa2-48e6-ac27-308f8c62431a",
   "metadata": {},
   "outputs": [
    {
     "data": {
      "text/plain": [
       "'HfzHrsMhod'"
      ]
     },
     "execution_count": 14,
     "metadata": {},
     "output_type": "execute_result"
    }
   ],
   "source": [
    "name[::2]"
   ]
  },
  {
   "cell_type": "code",
   "execution_count": 20,
   "id": "08e938b6-2b68-4d68-b15b-44dc66707663",
   "metadata": {},
   "outputs": [
    {
     "name": "stdout",
     "output_type": "stream",
     "text": [
      "HAFIZ HARIS MEHMOOD\n",
      "hafiz haris mehmood\n",
      "Hafiz Haris A\n"
     ]
    }
   ],
   "source": [
    "# Common String Methods\n",
    "print(name.upper())\n",
    "print(name.lower())\n",
    "print(name.replace(\"Mehmood\", \"A\"))"
   ]
  },
  {
   "cell_type": "code",
   "execution_count": 24,
   "id": "62bf22ba-3b86-435a-84a8-8744da63da15",
   "metadata": {},
   "outputs": [
    {
     "data": {
      "text/plain": [
       "'Hello World!'"
      ]
     },
     "execution_count": 24,
     "metadata": {},
     "output_type": "execute_result"
    }
   ],
   "source": [
    "message = \" Hello World!  \"\n",
    "message\n",
    "message.strip()"
   ]
  },
  {
   "cell_type": "code",
   "execution_count": 28,
   "id": "ce88aef2-3a39-4e6e-b580-36912a336ac7",
   "metadata": {},
   "outputs": [
    {
     "data": {
      "text/plain": [
       "False"
      ]
     },
     "execution_count": 28,
     "metadata": {},
     "output_type": "execute_result"
    }
   ],
   "source": [
    "name.startswith(\"Haris\")"
   ]
  },
  {
   "cell_type": "code",
   "execution_count": 32,
   "id": "61c3e118-3837-4466-bd27-a08abc9d3f61",
   "metadata": {},
   "outputs": [
    {
     "data": {
      "text/plain": [
       "True"
      ]
     },
     "execution_count": 32,
     "metadata": {},
     "output_type": "execute_result"
    }
   ],
   "source": [
    "name.endswith(\"Mehmood\")"
   ]
  },
  {
   "cell_type": "code",
   "execution_count": 33,
   "id": "d9b9aa64-c5b5-4bb5-9102-d6e156e4ebbe",
   "metadata": {},
   "outputs": [],
   "source": [
    "# Stirng Formating\n",
    "first_name = \"Hafiz Haris\"\n",
    "last_name = \"Mehmood\""
   ]
  },
  {
   "cell_type": "code",
   "execution_count": 34,
   "id": "85c83dab-4765-4555-9ac6-1157283f476f",
   "metadata": {},
   "outputs": [
    {
     "name": "stdout",
     "output_type": "stream",
     "text": [
      "My first Name is Hafiz Haris & my family name is Mehmood\n"
     ]
    }
   ],
   "source": [
    "print(f\"My first Name is {first_name} & my family name is {last_name}\")"
   ]
  },
  {
   "cell_type": "code",
   "execution_count": 37,
   "id": "07bfe11c-52b9-42f5-a7df-7aa68311bdb2",
   "metadata": {},
   "outputs": [
    {
     "name": "stdout",
     "output_type": "stream",
     "text": [
      "My First name is Hafiz Haris & my family name is Mehmood\n"
     ]
    }
   ],
   "source": [
    "print(\"My First name is {} & my family name is {}\".format(first_name,last_name))"
   ]
  },
  {
   "cell_type": "code",
   "execution_count": 39,
   "id": "dada26e9-c775-49e5-81c0-b6023606850a",
   "metadata": {},
   "outputs": [
    {
     "name": "stdout",
     "output_type": "stream",
     "text": [
      "Welcome to the Student Info APP\n"
     ]
    },
    {
     "name": "stdin",
     "output_type": "stream",
     "text": [
      "ENter your Name Haris\n",
      "ENter your Age 22\n",
      "Enter your Marks out of 100 85\n"
     ]
    },
    {
     "name": "stdout",
     "output_type": "stream",
     "text": [
      "Student Report Card\n",
      "------------------------------\n",
      "Name: Haris\n",
      "Age: 22\n",
      "Marks: 85.0\n",
      "Grade: B\n",
      "Status: Pass\n",
      "------------------------------\n"
     ]
    }
   ],
   "source": [
    "# Mini Project\n",
    "\n",
    "print(\"Welcome to the Student Info APP\")\n",
    "\n",
    "# Step 1\n",
    "name = input(\"ENter your Name\")\n",
    "age = int(input(\"ENter your Age\"))\n",
    "marks = float(input(\"Enter your Marks out of 100\"))\n",
    "\n",
    "# Step 2 Grade Calculation\n",
    "if marks >= 90:\n",
    "    grade = \"A\"\n",
    "elif marks >= 75:\n",
    "    grade = \"B\"\n",
    "elif marks >= 50:\n",
    "    grade = \"C\"\n",
    "else:\n",
    "    grade = \"F\"\n",
    "\n",
    "# Step Checking Passor Fail\n",
    "if marks >= 50:\n",
    "    status = \"Pass\"\n",
    "else:\n",
    "    status = \"Fail\"\n",
    "\n",
    "# Step 4: Oupput Summary\n",
    "print(\"Student Report Card\")\n",
    "print(\"-\" * 30)\n",
    "print(f\"Name: {name}\")\n",
    "print(f\"Age: {age}\")\n",
    "print(f\"Marks: {marks}\")\n",
    "print(f\"Grade: {grade}\")\n",
    "print(f\"Status: {status}\")\n",
    "print(\"-\" * 30)\n",
    "    "
   ]
  },
  {
   "cell_type": "code",
   "execution_count": null,
   "id": "f8abbc31-0cfc-4789-958e-3d5aa5bc1e99",
   "metadata": {},
   "outputs": [],
   "source": []
  }
 ],
 "metadata": {
  "kernelspec": {
   "display_name": "Python 3 (ipykernel)",
   "language": "python",
   "name": "python3"
  },
  "language_info": {
   "codemirror_mode": {
    "name": "ipython",
    "version": 3
   },
   "file_extension": ".py",
   "mimetype": "text/x-python",
   "name": "python",
   "nbconvert_exporter": "python",
   "pygments_lexer": "ipython3",
   "version": "3.12.7"
  }
 },
 "nbformat": 4,
 "nbformat_minor": 5
}
