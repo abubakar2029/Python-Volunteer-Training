{
 "cells": [
  {
   "cell_type": "code",
   "execution_count": 1,
   "id": "35b2d4b0-57e1-4985-af8f-86b80c951b8e",
   "metadata": {},
   "outputs": [],
   "source": [
    "# Python Loops\n",
    "# 1. For loop\n",
    "# 2. While\n",
    "\n",
    "# Loop Control Statemts \n",
    "# 1. Break\n",
    "# 2. Contiunue"
   ]
  },
  {
   "cell_type": "code",
   "execution_count": 2,
   "id": "075b878e-73c3-44e9-8af0-1498daed43c2",
   "metadata": {},
   "outputs": [
    {
     "name": "stdout",
     "output_type": "stream",
     "text": [
      "Hello World\n",
      "Hello World\n",
      "Hello WOrld\n"
     ]
    }
   ],
   "source": [
    "print(\"Hello World\")\n",
    "print(\"Hello World\")\n",
    "print(\"Hello WOrld\")"
   ]
  },
  {
   "cell_type": "code",
   "execution_count": 3,
   "id": "f5c2c7bd-40a1-4723-9608-477f5d6877cb",
   "metadata": {},
   "outputs": [
    {
     "name": "stdout",
     "output_type": "stream",
     "text": [
      "Hello WOrld\n",
      "Hello WOrld\n",
      "Hello WOrld\n"
     ]
    }
   ],
   "source": [
    "for i in range(3):\n",
    "    print(\"Hello WOrld\")"
   ]
  },
  {
   "cell_type": "code",
   "execution_count": 7,
   "id": "72ce3b06-99b7-451d-8040-de459518c57b",
   "metadata": {},
   "outputs": [
    {
     "name": "stdout",
     "output_type": "stream",
     "text": [
      "2\n",
      "4\n",
      "6\n",
      "8\n",
      "10\n",
      "12\n",
      "14\n",
      "16\n",
      "18\n",
      "20\n"
     ]
    }
   ],
   "source": [
    "# Syntax of Loop\n",
    "# For Loop\n",
    "# for variable in range(start(inclusive), stop(exclusive), step):"
   ]
  },
  {
   "cell_type": "code",
   "execution_count": 9,
   "id": "233372a3-c3ed-4a5b-86ee-88f89712e00e",
   "metadata": {},
   "outputs": [
    {
     "name": "stdout",
     "output_type": "stream",
     "text": [
      "2\n",
      "4\n",
      "6\n",
      "8\n",
      "10\n",
      "12\n",
      "14\n",
      "16\n",
      "18\n",
      "20\n"
     ]
    }
   ],
   "source": [
    "# Table of 2\n",
    "for i in range(2, 21, 2):\n",
    "    print(i)"
   ]
  },
  {
   "cell_type": "code",
   "execution_count": 11,
   "id": "a8185932-784e-4fd9-b5b3-87c3e837a794",
   "metadata": {},
   "outputs": [
    {
     "name": "stdout",
     "output_type": "stream",
     "text": [
      "3\n",
      "6\n",
      "9\n",
      "12\n",
      "15\n",
      "18\n",
      "21\n",
      "24\n",
      "27\n",
      "30\n"
     ]
    }
   ],
   "source": [
    "# Table of 3\n",
    "for i in range(3, 31, 3):\n",
    "    print(i)"
   ]
  },
  {
   "cell_type": "code",
   "execution_count": 12,
   "id": "689a212c-53fe-4c81-b42f-6494ee233377",
   "metadata": {},
   "outputs": [
    {
     "name": "stdout",
     "output_type": "stream",
     "text": [
      "5\n",
      "10\n",
      "15\n",
      "20\n",
      "25\n",
      "30\n",
      "35\n",
      "40\n",
      "45\n",
      "50\n"
     ]
    }
   ],
   "source": [
    "# Table of 5\n",
    "for i in range(5, 51, 5):\n",
    "    print(i)"
   ]
  },
  {
   "cell_type": "code",
   "execution_count": 13,
   "id": "fe7e9ca1-34bb-4916-807c-4db7f8dca296",
   "metadata": {},
   "outputs": [],
   "source": [
    "# 2. While Loop\n",
    "# Syntax\n",
    "\n",
    "# while condition:\n",
    "    # Code Block    "
   ]
  },
  {
   "cell_type": "code",
   "execution_count": 14,
   "id": "8a762712-2d5c-40fb-8f6c-ec204513494e",
   "metadata": {},
   "outputs": [
    {
     "name": "stdout",
     "output_type": "stream",
     "text": [
      "Count is:  0\n",
      "Count is:  1\n",
      "Count is:  2\n",
      "Count is:  3\n",
      "Count is:  4\n"
     ]
    }
   ],
   "source": [
    "count = 0\n",
    "while count < 5:\n",
    "    print(\"Count is: \", count)\n",
    "    count += 1"
   ]
  },
  {
   "cell_type": "code",
   "execution_count": 1,
   "id": "084ce423-5913-4fec-a3f9-adb2b801f908",
   "metadata": {},
   "outputs": [
    {
     "name": "stdin",
     "output_type": "stream",
     "text": [
      "Enter a number between 1 to 5 2\n"
     ]
    },
    {
     "name": "stdout",
     "output_type": "stream",
     "text": [
      "Count is : 2\n",
      "Count is : 3\n",
      "Count is : 4\n"
     ]
    }
   ],
   "source": [
    "user_input = int(input(\"Enter a number between 1 to 5\"))\n",
    "\n",
    "while user_input < 5:\n",
    "    print(f\"Count is : {user_input}\")\n",
    "    user_input += 1"
   ]
  },
  {
   "cell_type": "code",
   "execution_count": 3,
   "id": "cc4f51f5-e4a1-44ec-8127-0500b86cb12b",
   "metadata": {},
   "outputs": [],
   "source": [
    "# Loop Control Statements\n",
    "# 1. Break\n",
    "# 2. Continue"
   ]
  },
  {
   "cell_type": "code",
   "execution_count": 5,
   "id": "54bb65db-9250-40e0-87ed-f4e1a4960932",
   "metadata": {},
   "outputs": [
    {
     "name": "stdout",
     "output_type": "stream",
     "text": [
      "0\n",
      "1\n",
      "2\n",
      "3\n",
      "4\n"
     ]
    }
   ],
   "source": [
    "# 1. Break\n",
    "for i in range(10):\n",
    "    if i == 5:\n",
    "        break\n",
    "    print(i)"
   ]
  },
  {
   "cell_type": "code",
   "execution_count": 9,
   "id": "8d343775-e7fb-4eba-9546-36c510a26812",
   "metadata": {},
   "outputs": [
    {
     "name": "stdout",
     "output_type": "stream",
     "text": [
      "1\n",
      "3\n",
      "5\n",
      "7\n",
      "9\n"
     ]
    }
   ],
   "source": [
    "# Continue\n",
    "for i in range(10):\n",
    "    if i % 2 == 0:\n",
    "        continue\n",
    "    print(i)"
   ]
  },
  {
   "cell_type": "code",
   "execution_count": 11,
   "id": "2b71a4f8-6f38-43f6-ae38-05a747bc9662",
   "metadata": {},
   "outputs": [
    {
     "name": "stdin",
     "output_type": "stream",
     "text": [
      "Enter your password:  abcd1234\n"
     ]
    },
    {
     "name": "stdout",
     "output_type": "stream",
     "text": [
      "Access Granted\n"
     ]
    }
   ],
   "source": [
    "# Real world Example\n",
    "password = \"abcd1234\"\n",
    "while True:\n",
    "    guess = input(\"Enter your password: \")\n",
    "    if guess == password:\n",
    "        print(\"Access Granted\")\n",
    "        break\n",
    "    else:\n",
    "        print(\"Try Again\")"
   ]
  },
  {
   "cell_type": "code",
   "execution_count": null,
   "id": "9e5f4d33-df0a-43ed-9908-77593533abf9",
   "metadata": {},
   "outputs": [],
   "source": []
  }
 ],
 "metadata": {
  "kernelspec": {
   "display_name": "Python 3 (ipykernel)",
   "language": "python",
   "name": "python3"
  },
  "language_info": {
   "codemirror_mode": {
    "name": "ipython",
    "version": 3
   },
   "file_extension": ".py",
   "mimetype": "text/x-python",
   "name": "python",
   "nbconvert_exporter": "python",
   "pygments_lexer": "ipython3",
   "version": "3.12.7"
  }
 },
 "nbformat": 4,
 "nbformat_minor": 5
}
