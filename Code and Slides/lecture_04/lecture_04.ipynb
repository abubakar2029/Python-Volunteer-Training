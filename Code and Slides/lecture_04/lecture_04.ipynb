{
 "cells": [
  {
   "cell_type": "code",
   "execution_count": 2,
   "id": "f9cdd55b-2b37-4aa7-a7e0-38a6a74a4f1c",
   "metadata": {},
   "outputs": [
    {
     "name": "stdout",
     "output_type": "stream",
     "text": [
      "Fail\n"
     ]
    }
   ],
   "source": [
    "# Conditional Statements\n",
    "# Syntax\n",
    "\n",
    "marks = 49\n",
    "if marks >= 50:\n",
    "    print(\"Pass\")\n",
    "else:\n",
    "    print(\"Fail\")\n",
    "    "
   ]
  },
  {
   "cell_type": "code",
   "execution_count": 6,
   "id": "e920eb22-9be5-428e-9960-11ba519f09cd",
   "metadata": {},
   "outputs": [
    {
     "name": "stdin",
     "output_type": "stream",
     "text": [
      "Enter your age 23\n"
     ]
    },
    {
     "name": "stdout",
     "output_type": "stream",
     "text": [
      "You are eligible to vote\n"
     ]
    }
   ],
   "source": [
    "age = int(input(\"Enter your age\"))\n",
    "if age >= 18:\n",
    "    print(\"You are eligible to vote\")\n",
    "else:\n",
    "    print(\"You are not eligible to vote\")"
   ]
  },
  {
   "cell_type": "code",
   "execution_count": 12,
   "id": "d51c5144-14ac-44fd-9e05-823b55923bca",
   "metadata": {},
   "outputs": [
    {
     "name": "stdin",
     "output_type": "stream",
     "text": [
      "Enter your marks out of 100 81\n"
     ]
    },
    {
     "name": "stdout",
     "output_type": "stream",
     "text": [
      "Grade B\n"
     ]
    }
   ],
   "source": [
    "marks = int(input(\"Enter your marks out of 100\"))\n",
    "\n",
    "if marks >= 80 and marks <= 89:\n",
    "    print(\"Grade B\")\n",
    "elif marks >= 90 and marks <= 100:\n",
    "    print(\"Grade A\")\n",
    "elif marks >= 70 and marks <= 79:\n",
    "    print(\"Grade C\")\n",
    "elif marks >= 60 and marks <= 69:\n",
    "    print(\"Grade D\")\n",
    "else:\n",
    "    print(\"You are fail\")"
   ]
  },
  {
   "cell_type": "code",
   "execution_count": 14,
   "id": "80946aa1-51df-465f-b694-7b4aa71ae106",
   "metadata": {},
   "outputs": [
    {
     "name": "stdin",
     "output_type": "stream",
     "text": [
      "Enter your age 16\n",
      "Enter your country Pakistan\n"
     ]
    },
    {
     "name": "stdout",
     "output_type": "stream",
     "text": [
      "You are not eligible to vote\n"
     ]
    }
   ],
   "source": [
    "# Nested Conditions\n",
    "\n",
    "age = int(input(\"Enter your age\"))\n",
    "nationality = input(\"Enter your country\")\n",
    "\n",
    "if nationality == \"Pakistan\":\n",
    "    if age >= 18:\n",
    "        print(\"You are eligible to vote\")\n",
    "    else:\n",
    "        print(\"You are not eligible to vote\")\n",
    "else:\n",
    "    print(\"You are not a Pakistani\")"
   ]
  },
  {
   "cell_type": "code",
   "execution_count": 15,
   "id": "388096e7-f96b-4857-b202-0d98e367a1ac",
   "metadata": {},
   "outputs": [
    {
     "name": "stdin",
     "output_type": "stream",
     "text": [
      "Enter a Number 5\n"
     ]
    },
    {
     "name": "stdout",
     "output_type": "stream",
     "text": [
      "The number is odd\n"
     ]
    }
   ],
   "source": [
    "# To check a number whether it is even or not\n",
    "number = int(input(\"Enter a Number\"))\n",
    "\n",
    "if number % 2 == 0:\n",
    "    print(\"The Number is even\")\n",
    "else:\n",
    "    print(\"The number is odd\")"
   ]
  },
  {
   "cell_type": "code",
   "execution_count": 18,
   "id": "8b53b3aa-014f-40bb-bac6-9126e935d0ff",
   "metadata": {},
   "outputs": [
    {
     "name": "stdin",
     "output_type": "stream",
     "text": [
      "ENter a Number 0\n"
     ]
    },
    {
     "name": "stdout",
     "output_type": "stream",
     "text": [
      "Your number is 0\n"
     ]
    }
   ],
   "source": [
    "# Number sign Checker\n",
    "number = int(input(\"ENter a Number\"))\n",
    "\n",
    "if number > 0:\n",
    "    print(\"Positive\")\n",
    "elif number < 0:\n",
    "    print(\"Negative\")\n",
    "else:\n",
    "    print(\"Your number is 0\")"
   ]
  },
  {
   "cell_type": "code",
   "execution_count": 23,
   "id": "90245628-b005-491f-8b27-ea46d4d68438",
   "metadata": {},
   "outputs": [
    {
     "name": "stdout",
     "output_type": "stream",
     "text": [
      "WELCOME to the ATM\n",
      "1. Cash Withdrawal\n",
      "2. Cash Deposit\n",
      "3. Check Balance\n"
     ]
    },
    {
     "name": "stdin",
     "output_type": "stream",
     "text": [
      "Enter your Choice 4\n"
     ]
    },
    {
     "name": "stdout",
     "output_type": "stream",
     "text": [
      "Enter a valid operation\n"
     ]
    }
   ],
   "source": [
    "# ATM Managment System\n",
    "Balance = 10000\n",
    "\n",
    "print(\"WELCOME to the ATM\")\n",
    "print(\"1. Cash Withdrawal\")\n",
    "print(\"2. Cash Deposit\")\n",
    "print(\"3. Check Balance\")\n",
    "\n",
    "choice = int(input(\"Enter your Choice\"))\n",
    "\n",
    "if choice == 1:\n",
    "    amount = int(input(\"ENter your AMount\"))\n",
    "    if amount > Balance:\n",
    "        print(\"Insufficient Balance\")\n",
    "    else:\n",
    "        Balance -= amount\n",
    "        print(f\"Your Account Balance after withdrawal is {Balance}\")\n",
    "elif choice == 2:\n",
    "    amount = int(input(\"ENter your amount to deposit\"))\n",
    "    Balance += amount\n",
    "    print(f\"Your Accounnt Balance after Deposit is {Balance}\")\n",
    "elif choice == 3:\n",
    "    print(f\"Your account balance is {Balance}\")\n",
    "\n",
    "else:\n",
    "    print(\"Enter a valid operation\")\n",
    "    "
   ]
  },
  {
   "cell_type": "code",
   "execution_count": null,
   "id": "0bc378e9-eea0-4c0e-9577-ac3a31400a8c",
   "metadata": {},
   "outputs": [],
   "source": []
  }
 ],
 "metadata": {
  "kernelspec": {
   "display_name": "Python 3 (ipykernel)",
   "language": "python",
   "name": "python3"
  },
  "language_info": {
   "codemirror_mode": {
    "name": "ipython",
    "version": 3
   },
   "file_extension": ".py",
   "mimetype": "text/x-python",
   "name": "python",
   "nbconvert_exporter": "python",
   "pygments_lexer": "ipython3",
   "version": "3.12.7"
  }
 },
 "nbformat": 4,
 "nbformat_minor": 5
}
