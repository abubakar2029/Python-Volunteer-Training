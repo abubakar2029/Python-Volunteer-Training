{
  "nbformat": 4,
  "nbformat_minor": 0,
  "metadata": {
    "colab": {
      "provenance": []
    },
    "kernelspec": {
      "name": "python3",
      "display_name": "Python 3"
    },
    "language_info": {
      "name": "python"
    }
  },
  "cells": [
    {
      "cell_type": "code",
      "execution_count": 36,
      "metadata": {
        "colab": {
          "base_uri": "https://localhost:8080/"
        },
        "id": "yfNc3y7u-bJZ",
        "outputId": "400e73de-77df-4896-8bd6-2fcc871cf250"
      },
      "outputs": [
        {
          "output_type": "stream",
          "name": "stdout",
          "text": [
            "['12' 'Ahmad' 'True']\n"
          ]
        }
      ],
      "source": [
        "# Arrays vs lists\n",
        "my_list = [12,\"Ahmad\",True]\n",
        "\n",
        "import numpy as np\n",
        "my_arr = np.array([12,\"Ahmad\",True])\n",
        "# my_arr = np.array([12,1,3])\n",
        "print(my_arr)"
      ]
    },
    {
      "cell_type": "code",
      "source": [
        "# Tuple\n",
        "my_tuple = (\"ahmad\",\"haseeb\",\"awais\",\"awais\")\n",
        "#             0       1       2\n",
        "# print(my_tuple)\n",
        "\n",
        "my_tuple[3]\n",
        "\n",
        "new_tuple = (\"apple\")\n",
        "new_tuple_2 = (\"apple\",)\n",
        "# print(type(new_tuple))\n",
        "# print(type(new_tuple_2))\n",
        "\n",
        "thistuple = (\"apple\", \"banana\", \"cherry\", \"orange\", \"kiwi\", \"melon\", \"mango\")\n",
        "#             0         1         2         3       4\n",
        "print(thistuple[-3])\n",
        "print(thistuple[2:4])\n",
        "\n",
        "# start sa 3rd index tk elements print kro\n",
        "print(thistuple[:4])\n",
        "\n",
        "# 3rd index sa end tk elements print kro\n",
        "print(thistuple[3:])\n"
      ],
      "metadata": {
        "colab": {
          "base_uri": "https://localhost:8080/"
        },
        "id": "u6hhWUxO_0w-",
        "outputId": "4123aba2-49a7-4d71-bca8-da18e5a5e651"
      },
      "execution_count": 16,
      "outputs": [
        {
          "output_type": "stream",
          "name": "stdout",
          "text": [
            "kiwi\n",
            "('cherry', 'orange')\n",
            "('apple', 'banana', 'cherry', 'orange')\n",
            "('orange', 'kiwi', 'melon', 'mango')\n"
          ]
        }
      ]
    },
    {
      "cell_type": "code",
      "source": [
        "# Changing the value\n",
        "\n",
        "# tuple -> list -> modification -> convert back to tuple\n",
        "\n",
        "my_tuple_list = list(thistuple)\n",
        "print(type(my_tuple_list))\n",
        "\n",
        "my_tuple_list[1]=\"greenApple\"\n",
        "print(my_tuple_list)\n",
        "\n",
        "new_tuple = tuple(my_tuple_list)\n",
        "print(type(new_tuple))"
      ],
      "metadata": {
        "colab": {
          "base_uri": "https://localhost:8080/"
        },
        "id": "Fe4-nfR0DIHs",
        "outputId": "7b220ef5-0d1c-4266-c86c-570cca7d4098"
      },
      "execution_count": 19,
      "outputs": [
        {
          "output_type": "stream",
          "name": "stdout",
          "text": [
            "<class 'list'>\n",
            "['apple', 'greenApple', 'cherry', 'orange', 'kiwi', 'melon', 'mango']\n",
            "<class 'tuple'>\n"
          ]
        }
      ]
    },
    {
      "cell_type": "code",
      "source": [
        "# Tuple Addition\n",
        "thistuple = (\"apple\", \"banana\", \"cherry\")\n",
        "y = (\"greenApple\",)\n",
        "\n",
        "# thistuple +=y\n",
        "y += thistuple\n",
        "print(thistuple)\n",
        "print(y)"
      ],
      "metadata": {
        "colab": {
          "base_uri": "https://localhost:8080/"
        },
        "id": "DMhwjgRHEFnj",
        "outputId": "782123e7-4df0-4f78-a57d-3839bea5f6f4"
      },
      "execution_count": 22,
      "outputs": [
        {
          "output_type": "stream",
          "name": "stdout",
          "text": [
            "('apple', 'banana', 'cherry')\n",
            "('greenApple', 'apple', 'banana', 'cherry')\n"
          ]
        }
      ]
    },
    {
      "cell_type": "code",
      "source": [
        "# Loop through tuples\n",
        "thistuple = (\"apple\", \"banana\", \"cherry\")\n",
        "\n",
        "# for\n",
        "# for y in thistuple:\n",
        "#   print(y)\n",
        "\n",
        "# loop through index\n",
        "# for i in range(len(thistuple)):\n",
        "#   print(i,thistuple[i])\n",
        "\n",
        "# while loop\n",
        "i = 0\n",
        "# 0\n",
        "while True:\n",
        "  # 0 < 3\n",
        "  # 1 < 3\n",
        "  # 2 < 3\n",
        "  # 3 < 3\n",
        "  print(i,thistuple[i])\n",
        "  i =i+1\n",
        "  if i >= 3:\n",
        "    break\n",
        "  # i = 0 + 1 -> 1\n",
        "  # i = 1 + 1 -> 2\n",
        "  # i = 2 + 1->  3\n",
        ""
      ],
      "metadata": {
        "colab": {
          "base_uri": "https://localhost:8080/"
        },
        "id": "VutmKuK8EoeE",
        "outputId": "75404cac-4040-4428-eeb2-685f63c1c904"
      },
      "execution_count": 33,
      "outputs": [
        {
          "output_type": "stream",
          "name": "stdout",
          "text": [
            "0 apple\n",
            "1 banana\n",
            "2 cherry\n"
          ]
        }
      ]
    },
    {
      "cell_type": "code",
      "source": [
        "thistuple = (\"apple\", \"banana\", \"cherry\")\n",
        "#             v1      v2        v3\n",
        "v1,v2,v3 = thistuple\n",
        "print(v1)\n",
        "print(v2)\n",
        "print(v3)"
      ],
      "metadata": {
        "colab": {
          "base_uri": "https://localhost:8080/"
        },
        "id": "7CN7fGz5HjSI",
        "outputId": "4a7d6137-c1dd-430d-8451-b47c98716fdd"
      },
      "execution_count": 38,
      "outputs": [
        {
          "output_type": "stream",
          "name": "stdout",
          "text": [
            "apple\n",
            "banana\n",
            "cherry\n"
          ]
        }
      ]
    },
    {
      "cell_type": "code",
      "source": [
        "nums = [1,2,3,2]\n",
        "\n",
        "print(nums.count(2))"
      ],
      "metadata": {
        "colab": {
          "base_uri": "https://localhost:8080/"
        },
        "id": "kFdnIBN0JMYl",
        "outputId": "cd27ccca-7549-4b05-d7ca-26c006126949"
      },
      "execution_count": 40,
      "outputs": [
        {
          "output_type": "stream",
          "name": "stdout",
          "text": [
            "2\n"
          ]
        }
      ]
    }
  ]
}