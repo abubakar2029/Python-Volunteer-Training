{
  "nbformat": 4,
  "nbformat_minor": 0,
  "metadata": {
    "colab": {
      "provenance": []
    },
    "kernelspec": {
      "name": "python3",
      "display_name": "Python 3"
    },
    "language_info": {
      "name": "python"
    }
  },
  "cells": [
    {
      "cell_type": "code",
      "execution_count": 2,
      "metadata": {
        "colab": {
          "base_uri": "https://localhost:8080/"
        },
        "id": "T1kl5SnOx_h8",
        "outputId": "843f51d3-18f1-4779-bea9-a5bd07ed3640"
      },
      "outputs": [
        {
          "output_type": "stream",
          "name": "stdout",
          "text": [
            "Give temperature in Celcius33\n",
            "91.4\n"
          ]
        }
      ],
      "source": [
        "# Assignment Day 02\n",
        "\n",
        "# take an input from user\n",
        "celcius_temperature = int(input(\"Give temperature in Celcius :\"))\n",
        "\n",
        "# use the formula to convert the temperature\n",
        "fahrenheit_temperature = (celcius_temperature * 9/5) + 32\n",
        "\n",
        "# I will use the print statement\n",
        "print(fahrenheit_temperature)"
      ]
    },
    {
      "cell_type": "code",
      "source": [
        "# Strings Concatenation in python\n",
        "# firstName + second_name\n",
        "\n",
        "first_name = \"Abu\"\n",
        "second_name = \"bakar\"\n",
        "\n",
        "print(first_name + second_name)\n",
        "print(\"First_\"+\"Second\")\n"
      ],
      "metadata": {
        "colab": {
          "base_uri": "https://localhost:8080/",
          "height": 211
        },
        "id": "LF3py_UG5b4-",
        "outputId": "88f00c13-f6d0-4c71-9e3e-c3c591ade5ee"
      },
      "execution_count": 5,
      "outputs": [
        {
          "output_type": "stream",
          "name": "stdout",
          "text": [
            "Abubakar\n",
            "First_Second\n"
          ]
        },
        {
          "output_type": "error",
          "ename": "TypeError",
          "evalue": "can only concatenate str (not \"int\") to str",
          "traceback": [
            "\u001b[0;31m---------------------------------------------------------------------------\u001b[0m",
            "\u001b[0;31mTypeError\u001b[0m                                 Traceback (most recent call last)",
            "\u001b[0;32m/tmp/ipython-input-3824404014.py\u001b[0m in \u001b[0;36m<cell line: 0>\u001b[0;34m()\u001b[0m\n\u001b[1;32m      8\u001b[0m \u001b[0mprint\u001b[0m\u001b[0;34m(\u001b[0m\u001b[0;34m\"First_\"\u001b[0m\u001b[0;34m+\u001b[0m\u001b[0;34m\"Second\"\u001b[0m\u001b[0;34m)\u001b[0m\u001b[0;34m\u001b[0m\u001b[0;34m\u001b[0m\u001b[0m\n\u001b[1;32m      9\u001b[0m \u001b[0;34m\u001b[0m\u001b[0m\n\u001b[0;32m---> 10\u001b[0;31m \u001b[0mprint\u001b[0m\u001b[0;34m(\u001b[0m\u001b[0;34m\"string\"\u001b[0m\u001b[0;34m+\u001b[0m\u001b[0;36m9\u001b[0m\u001b[0;34m)\u001b[0m\u001b[0;34m\u001b[0m\u001b[0;34m\u001b[0m\u001b[0m\n\u001b[0m",
            "\u001b[0;31mTypeError\u001b[0m: can only concatenate str (not \"int\") to str"
          ]
        }
      ]
    },
    {
      "cell_type": "code",
      "source": [
        "# String Operations\n",
        "\n",
        "full_name = \"aBuBAKaR\" # it is immutable\n",
        "\n",
        "updated = full_name.capitalize()\n",
        "print(full_name)\n",
        "print(updated)"
      ],
      "metadata": {
        "colab": {
          "base_uri": "https://localhost:8080/"
        },
        "id": "wdyEXshf6rVc",
        "outputId": "4a022422-c330-45a0-92b5-7c40b6b3d741"
      },
      "execution_count": 7,
      "outputs": [
        {
          "output_type": "stream",
          "name": "stdout",
          "text": [
            "aBuBAKaR\n",
            "Abubakar\n"
          ]
        }
      ]
    },
    {
      "cell_type": "code",
      "source": [
        "# Indexing\n",
        "str_1 = \"hello world\"\n",
        "#        0123456\n",
        "\n",
        "len(str_1)\n",
        "str_1.find(\"o\")\n",
        "\n",
        "# str_1[-2]\n",
        "\n",
        "# print(str_1[-2])"
      ],
      "metadata": {
        "colab": {
          "base_uri": "https://localhost:8080/"
        },
        "id": "hOshXFkF7sZX",
        "outputId": "78deec0f-d4ab-4d90-b49a-65df85140853"
      },
      "execution_count": 12,
      "outputs": [
        {
          "output_type": "execute_result",
          "data": {
            "text/plain": [
              "4"
            ]
          },
          "metadata": {},
          "execution_count": 12
        }
      ]
    },
    {
      "cell_type": "code",
      "source": [
        "#"
      ],
      "metadata": {
        "id": "OjJMM4L_9SCW"
      },
      "execution_count": null,
      "outputs": []
    }
  ]
}