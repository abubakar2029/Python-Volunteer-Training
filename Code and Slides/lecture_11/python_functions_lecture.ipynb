{
 "cells": [
  {
   "cell_type": "markdown",
   "id": "94f536b8",
   "metadata": {},
   "source": [
    "# Functions in Python\n",
    "\n",
    "In this lecture, we will learn about **functions** in Python: what they are, why we use them, and how to write them."
   ]
  },
  {
   "cell_type": "markdown",
   "id": "f76bf643",
   "metadata": {},
   "source": [
    "## What is a Function?\n",
    "- A function is a block of code that performs a specific task.\n",
    "- Functions allow code reusability and modular programming.\n",
    "\n",
    "**Example in real life:**\n",
    "- A washing machine is like a function: you give it clothes and soap, and it gives you clean clothes."
   ]
  },
  {
   "cell_type": "markdown",
   "id": "d50d299f",
   "metadata": {},
   "source": [
    "## Defining a Function\n",
    "In Python, we use the `def` keyword to define a function."
   ]
  },
  {
   "cell_type": "code",
   "execution_count": null,
   "id": "4fdd7401",
   "metadata": {},
   "outputs": [],
   "source": [
    "# Example: A simple function\n",
    "def greet():\n",
    "    print(\"Hello, welcome to the class!\")\n",
    "\n",
    "# Calling the function\n",
    "greet()"
   ]
  },
  {
   "cell_type": "markdown",
   "id": "06aa1a2e",
   "metadata": {},
   "source": [
    "## Function Parameters\n",
    "Functions can take **parameters (inputs)** to work with different data."
   ]
  },
  {
   "cell_type": "code",
   "execution_count": null,
   "id": "92feb351",
   "metadata": {},
   "outputs": [],
   "source": [
    "# Example: Function with parameters\n",
    "def greet(name):\n",
    "    print(f\"Hello, {name}! Welcome to the class.\")\n",
    "\n",
    "# Calling with different arguments\n",
    "greet(\"Ali\")\n",
    "greet(\"Sara\")"
   ]
  },
  {
   "cell_type": "markdown",
   "id": "dfe3a2e2",
   "metadata": {},
   "source": [
    "## Return Statement\n",
    "Functions can also **return values** using the `return` keyword."
   ]
  },
  {
   "cell_type": "code",
   "execution_count": null,
   "id": "cb4e151e",
   "metadata": {},
   "outputs": [],
   "source": [
    "# Example: Function that returns a value\n",
    "def add(a, b):\n",
    "    return a + b\n",
    "\n",
    "# Storing the result in a variable\n",
    "result = add(5, 3)\n",
    "print(\"Sum:\", result)"
   ]
  },
  {
   "cell_type": "markdown",
   "id": "abd495de",
   "metadata": {},
   "source": [
    "## Default Parameters\n",
    "You can assign default values to parameters."
   ]
  },
  {
   "cell_type": "code",
   "execution_count": null,
   "id": "978713d9",
   "metadata": {},
   "outputs": [],
   "source": [
    "# Example: Default parameter\n",
    "def greet(name=\"Student\"):\n",
    "    print(f\"Hello, {name}!\")\n",
    "\n",
    "greet()\n",
    "greet(\"Ayesha\")"
   ]
  },
  {
   "cell_type": "markdown",
   "id": "71874eb7",
   "metadata": {},
   "source": [
    "## Returning Multiple Values\n",
    "Python allows returning multiple values as a tuple."
   ]
  },
  {
   "cell_type": "code",
   "execution_count": null,
   "id": "c934bf1e",
   "metadata": {},
   "outputs": [],
   "source": [
    "def calculate(a, b):\n",
    "    sum_val = a + b\n",
    "    diff = a - b\n",
    "    return sum_val, diff\n",
    "\n",
    "s, d = calculate(10, 3)\n",
    "print(\"Sum:\", s)\n",
    "print(\"Difference:\", d)"
   ]
  },
  {
   "cell_type": "markdown",
   "id": "f8be6d92",
   "metadata": {},
   "source": [
    "## Scope of Variables\n",
    "- **Local variables:** Declared inside a function, accessible only inside it.\n",
    "- **Global variables:** Declared outside all functions, accessible everywhere."
   ]
  },
  {
   "cell_type": "code",
   "execution_count": null,
   "id": "ba57ac03",
   "metadata": {},
   "outputs": [],
   "source": [
    "x = 10  # Global variable\n",
    "\n",
    "def show():\n",
    "    y = 5  # Local variable\n",
    "    print(\"Inside function: x =\", x, \", y =\", y)\n",
    "\n",
    "show()\n",
    "print(\"Outside function: x =\", x)"
   ]
  },
  {
   "cell_type": "markdown",
   "id": "2e22149b",
   "metadata": {},
   "source": [
    "## Lambda Functions\n",
    "- A lambda function is a small anonymous function.\n",
    "- It is written in one line using the `lambda` keyword."
   ]
  },
  {
   "cell_type": "code",
   "execution_count": null,
   "id": "0e462702",
   "metadata": {},
   "outputs": [],
   "source": [
    "# Example: Lambda function\n",
    "square = lambda x: x * x\n",
    "print(\"Square of 4 is:\", square(4))"
   ]
  },
  {
   "cell_type": "markdown",
   "id": "a3841871",
   "metadata": {},
   "source": [
    "## Practice Exercises\n",
    "1. Write a function `multiply` that takes two numbers and returns their product.\n",
    "2. Write a function `is_even` that returns True if a number is even, otherwise False.\n",
    "3. Write a function `factorial` that calculates the factorial of a number."
   ]
  }
 ],
 "metadata": {},
 "nbformat": 4,
 "nbformat_minor": 5
}