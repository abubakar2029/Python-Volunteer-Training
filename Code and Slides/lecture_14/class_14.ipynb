{
  "nbformat": 4,
  "nbformat_minor": 0,
  "metadata": {
    "colab": {
      "provenance": []
    },
    "kernelspec": {
      "name": "python3",
      "display_name": "Python 3"
    },
    "language_info": {
      "name": "python"
    }
  },
  "cells": [
    {
      "cell_type": "code",
      "execution_count": null,
      "metadata": {
        "id": "cPvG4rcl3QpT"
      },
      "outputs": [],
      "source": [
        "# Encapsulation\n",
        "class Demo:\n",
        "    def __init__(self):\n",
        "        self.public = \"I am public\"\n",
        "        self._protected = \"I am protected (convention)\"\n",
        "        self.__private = \"I am private (name mangled)\"\n",
        "\n",
        "obj = Demo()\n",
        "\n",
        "print(obj.public)       # ✅ Direct access\n",
        "print(obj._protected)   # ✅ Works, but not recommended\n",
        "# print(obj.__private)  # ❌ Error\n",
        "print(obj._Demo__private) # ✅ Works (name mangled)\n",
        "\n",
        "#  Name mangling in Python means that when you define a variable with two leading\n",
        "#  underscores (__var), Python automatically changes its name internally to\n",
        "#  include the class name.\n"
      ]
    },
    {
      "cell_type": "code",
      "source": [
        "# compile time polymorphism - overloading\n",
        "class MathOps:\n",
        "    def add(self, a, b=0, c=0):\n",
        "        return a + b + c\n",
        "\n",
        "obj = MathOps()\n",
        "print(obj.add(5))        # uses 1 parameter\n",
        "print(obj.add(5, 10))    # uses 2 parameters\n",
        "print(obj.add(5, 10, 15))# uses 3 parameters"
      ],
      "metadata": {
        "colab": {
          "base_uri": "https://localhost:8080/"
        },
        "id": "ZRF1Ufkx3liE",
        "outputId": "010f75ac-0826-403b-857f-2df6b110d398"
      },
      "execution_count": 2,
      "outputs": [
        {
          "output_type": "stream",
          "name": "stdout",
          "text": [
            "5\n",
            "15\n",
            "30\n"
          ]
        }
      ]
    },
    {
      "cell_type": "code",
      "source": [
        "# students\n",
        "# def registration (name,):\n",
        "\n",
        "# def enroll():\n",
        "\n",
        "# def student_info():\n",
        "\n",
        "# Classes\n",
        "# class Student:\n",
        "  # def registration (name,):\n",
        "\n",
        "# def enroll():\n",
        "\n",
        "# def student_info():\n",
        "\n",
        "# ahmed = Student()\n",
        "# ali = Student()\n",
        "\n",
        "# ahmed.enroll()\n",
        "# ali.enroll()\n",
        "\n",
        "class Student: # parent\n",
        "  # constructor\n",
        "  def __init__(self) -> None:\n",
        "    #  self.__id=random()  # private\n",
        "    #  self._id=random()  # protected\n",
        "    pass\n",
        "\n",
        "  def info():\n",
        "    print(f\"Id of student {__id}\")\n",
        "\n",
        "  def enroll(id, courseName):\n",
        "    # we enroll the student\n",
        "    pass\n",
        "\n",
        "\n",
        "class BioInformaticsStudent(Student):\n",
        "  def __init__(self) -> None:\n",
        "     super().__init__()\n",
        "\n",
        "  def thesis_bioinformatics():\n",
        "    pass\n",
        "\n",
        "awais = BioInformaticsStudent()\n",
        "# awais."
      ],
      "metadata": {
        "id": "V6c9mvBWA9Tr"
      },
      "execution_count": null,
      "outputs": []
    },
    {
      "cell_type": "code",
      "source": [
        "class Animal:\n",
        "  def makeSound():\n",
        "    pass\n",
        "\n",
        "class Cat(Animal):\n",
        "  def makeSound():\n",
        "     print(\"Cat says meow\")\n",
        "\n",
        "class Dog(Animal):\n",
        "  def makeSound():\n",
        "     print(\"Dog says barks\")\n",
        "\n",
        "pet_01 = Dog()\n",
        "pet_02 = Cat()\n",
        "pet_01.makeSound()"
      ],
      "metadata": {
        "id": "eehxO8m1IrTd"
      },
      "execution_count": null,
      "outputs": []
    }
  ]
}