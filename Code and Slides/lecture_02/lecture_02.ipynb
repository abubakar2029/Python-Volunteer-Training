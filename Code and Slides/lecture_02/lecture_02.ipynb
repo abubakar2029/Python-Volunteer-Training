{
  "nbformat": 4,
  "nbformat_minor": 0,
  "metadata": {
    "colab": {
      "provenance": []
    },
    "kernelspec": {
      "name": "python3",
      "display_name": "Python 3"
    },
    "language_info": {
      "name": "python"
    }
  },
  "cells": [
    {
      "cell_type": "code",
      "execution_count": null,
      "metadata": {
        "id": "uuDyPkcYnxl7"
      },
      "outputs": [],
      "source": [
        "# Primary Data Types in PYthon\n",
        "\n",
        "# int (+ve,0,-ve)\n",
        "num = 12\n",
        "num2 = -12\n",
        "\n",
        "# float 0.33, 0.9999\n",
        "floatNum = 0.99\n",
        "\n",
        "# str (text, sentence)\n",
        "myStr = 'This is a string'\n",
        "myStr2 = \"This is a string\"\n",
        "\n",
        "# boolean\n",
        "name = \"George\"\n",
        "age = 33\n",
        "weight = 55.5\n",
        "adult = True"
      ]
    },
    {
      "cell_type": "code",
      "source": [
        "# Type() function\n",
        "# input(), print()\n",
        "\n",
        "# type function hma kisi variable ki data-type\n",
        "print(type(name))\n",
        "print(type(age))\n",
        "print(type(weight))\n",
        "print(type(adult))"
      ],
      "metadata": {
        "colab": {
          "base_uri": "https://localhost:8080/"
        },
        "id": "dVhjyP7zpLup",
        "outputId": "2938139c-a510-435a-a14a-38274d622328"
      },
      "execution_count": null,
      "outputs": [
        {
          "output_type": "stream",
          "name": "stdout",
          "text": [
            "<class 'str'>\n",
            "<class 'int'>\n",
            "<class 'float'>\n",
            "<class 'bool'>\n"
          ]
        }
      ]
    },
    {
      "cell_type": "markdown",
      "source": [],
      "metadata": {
        "id": "5qt7yn5Stmcr"
      }
    },
    {
      "cell_type": "code",
      "source": [
        "# input function\n",
        "age = int(input())\n",
        "\"55\"\n",
        "print(type(age))\n",
        "\n",
        "# print(name, age ,weight)\n",
        "print(\"This is just a simple string\")\n",
        "print(\"The age of the user is : \",age)\n",
        "\n",
        "print(name,age)\n"
      ],
      "metadata": {
        "colab": {
          "base_uri": "https://localhost:8080/"
        },
        "id": "mDGSiZr-qJ75",
        "outputId": "7eb735ad-87b2-4c78-c988-88c6d6e03f91"
      },
      "execution_count": null,
      "outputs": [
        {
          "output_type": "stream",
          "name": "stdout",
          "text": [
            "55\n",
            "<class 'int'>\n",
            "This is just a simple string\n",
            "The age of the user is :  55\n",
            "george 55\n"
          ]
        }
      ]
    },
    {
      "cell_type": "code",
      "source": [
        "# type casting - wo process ha jis sa hum type change krta han\n",
        "\n",
        "# explicit typing\n",
        "\n",
        "# implicit type casting\n",
        "a =33\n",
        "b= 20.5\n",
        "c=a+b\n",
        "# int + float\n",
        "\n",
        "print(type(c))"
      ],
      "metadata": {
        "colab": {
          "base_uri": "https://localhost:8080/"
        },
        "id": "4DNk3gVMt0AJ",
        "outputId": "e1a91828-9d8f-44c3-f153-246096c86c6a"
      },
      "execution_count": null,
      "outputs": [
        {
          "output_type": "stream",
          "name": "stdout",
          "text": [
            "<class 'float'>\n"
          ]
        }
      ]
    },
    {
      "cell_type": "code",
      "source": [
        "# Operator precedence\n",
        "\n",
        "# () -> ** -> *,/ -> +, -\n",
        "\n",
        "# DMAS\n",
        "a = 10 + 2/2 + 4*7\n",
        "#   10 + 1 + 28\n",
        "# 39\n",
        "\n",
        "a = (10 + 2)/2 + 4*7\n",
        "#   12/2 + 4*7\n",
        "#   6 + 28\n",
        "# 34\n",
        "\n",
        "\n",
        "a = \"It is a str\"\n",
        "print(a)"
      ],
      "metadata": {
        "colab": {
          "base_uri": "https://localhost:8080/"
        },
        "id": "CT34evf5u5ep",
        "outputId": "f37484a6-9a1f-4d57-ff1f-ba1ee71aaed0"
      },
      "execution_count": null,
      "outputs": [
        {
          "output_type": "stream",
          "name": "stdout",
          "text": [
            "It is a str\n"
          ]
        }
      ]
    },
    {
      "cell_type": "code",
      "source": [
        "# variable naming rules and conventions\n",
        "\n",
        "# detailed meaningful names\n",
        "# floatNumber\n",
        "\n",
        "# _, a ,A\n",
        "\n",
        "# age , Age -> different variables\n",
        "\n",
        "# can't use reserve keywords\n",
        "# class, if, input, print\n",
        "\n",
        "\n",
        "# camelCase, Pascal_Case, snake_case\n",
        "# lectureTwo, firstName\n",
        "# first_name, lecture_two -> python convention"
      ],
      "metadata": {
        "id": "6EET3712xkDF"
      },
      "execution_count": null,
      "outputs": []
    }
  ]
}