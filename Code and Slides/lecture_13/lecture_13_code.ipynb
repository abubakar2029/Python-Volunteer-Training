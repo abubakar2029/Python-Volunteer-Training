{
  "nbformat": 4,
  "nbformat_minor": 0,
  "metadata": {
    "colab": {
      "provenance": []
    },
    "kernelspec": {
      "name": "python3",
      "display_name": "Python 3"
    },
    "language_info": {
      "name": "python"
    }
  },
  "cells": [
    {
      "cell_type": "code",
      "execution_count": null,
      "metadata": {
        "id": "e9bMu0Wb1w99"
      },
      "outputs": [],
      "source": [
        "# functions\n",
        "# calculate()\n",
        "\n",
        "# Car\n",
        "# Mehran,Civic, Corolla\n",
        "\n",
        "# 4 seats, 4 tyres, engine,\n",
        "# gears, speed meter"
      ]
    },
    {
      "cell_type": "code",
      "source": [
        "# ahmed, ali, ayesha\n",
        "\n",
        "# StudentIcode - blue print\n",
        "\n",
        "class Student:\n",
        "  # variables + functions\n",
        "  # attributes + methods\n",
        "\n",
        "  # constructors - ya wo method ha jo class initiaze ka waqt khud call ho jata ha\n",
        "  def __init__(self):\n",
        "    print(\"A new student created in constructor\")\n",
        "\n",
        "  # def greet(self):\n",
        "\n",
        "\n",
        "ahmed = Student()\n",
        "\n",
        "# object = class\n",
        "# ahmed.greet()"
      ],
      "metadata": {
        "colab": {
          "base_uri": "https://localhost:8080/"
        },
        "id": "r8OgIGLB3ysb",
        "outputId": "d3b75b77-acba-4631-8eb7-7d9573c3b7d6"
      },
      "execution_count": 6,
      "outputs": [
        {
          "output_type": "stream",
          "name": "stdout",
          "text": [
            "A new student created in constructor\n"
          ]
        }
      ]
    },
    {
      "cell_type": "code",
      "source": [
        "class Student:\n",
        "  # name, id, age\n",
        "  def __init__(self, name, id, age):\n",
        "    # print(\" a new student\")\n",
        "    self.name = name\n",
        "    self.age = age\n",
        "    self.id = id\n",
        "\n",
        "  def enroll(self, course_name):\n",
        "    print(f\"You are enrolled in a course {course_name}\")\n",
        "    # take data and enter in database and inform the admin also\n",
        "\n",
        "\n",
        "ahmed = Student(\"ahmed\",1234,22)\n",
        "ali = Student(\"ali\",546,22)\n",
        "\n",
        "# ahmed.enroll(\"Databases\")\n",
        "\n",
        "print(ahmed.name)\n",
        "print(ali.age)"
      ],
      "metadata": {
        "colab": {
          "base_uri": "https://localhost:8080/"
        },
        "id": "vfYe4i795bt3",
        "outputId": "48826ddc-734e-42b7-db2b-10852256d4b2"
      },
      "execution_count": 11,
      "outputs": [
        {
          "output_type": "stream",
          "name": "stdout",
          "text": [
            "ahmed\n",
            "ali\n"
          ]
        }
      ]
    },
    {
      "cell_type": "code",
      "source": [
        "def student():\n",
        "  name=\"ahmed\"\n",
        "  print(\"Some operations to store a student\")\n",
        "student()"
      ],
      "metadata": {
        "colab": {
          "base_uri": "https://localhost:8080/"
        },
        "id": "FPkG7K9l6179",
        "outputId": "9d03cea8-9287-4ffc-c602-860c0dd15da9"
      },
      "execution_count": 14,
      "outputs": [
        {
          "output_type": "stream",
          "name": "stdout",
          "text": [
            "Some operations to store a student\n"
          ]
        }
      ]
    },
    {
      "cell_type": "code",
      "source": [
        "student_name = \"haris\"\n",
        "a = student_name.capitalize()\n",
        "\n",
        "my_list =[2,2,4,5]\n",
        "\n",
        "print(a)"
      ],
      "metadata": {
        "colab": {
          "base_uri": "https://localhost:8080/"
        },
        "id": "pF14hIY59HhJ",
        "outputId": "758272d7-ced0-451c-dab7-b6f23206df94"
      },
      "execution_count": 18,
      "outputs": [
        {
          "output_type": "stream",
          "name": "stdout",
          "text": [
            "Haris\n"
          ]
        }
      ]
    },
    {
      "cell_type": "code",
      "source": [
        "class Student:\n",
        "  school_name = \"iCodeGuru\" # class attribute\n",
        "  def __init__(self, name, id, age):\n",
        "    self.name = name # object attribute\n",
        "    self.age = age\n",
        "    self.id = id\n",
        "\n",
        "  def enroll(self, course_name):\n",
        "    print(f\"You are enrolled in a course {course_name}\")\n",
        "\n",
        "\n",
        "ahmed = Student(\"ahmed\",1234,22)\n",
        "ali = Student(\"ali\",546,22)\n",
        "\n",
        "\n",
        "print(ahmed.school_name)\n",
        "print(ali.school_name)"
      ],
      "metadata": {
        "colab": {
          "base_uri": "https://localhost:8080/"
        },
        "id": "oBKOM58L-4bk",
        "outputId": "81aa1da2-0c56-4f54-fc2a-878b67c9dc66"
      },
      "execution_count": 19,
      "outputs": [
        {
          "output_type": "stream",
          "name": "stdout",
          "text": [
            "iCodeGuru\n",
            "iCodeGuru\n"
          ]
        }
      ]
    }
  ]
}